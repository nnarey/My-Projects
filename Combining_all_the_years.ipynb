{
  "nbformat": 4,
  "nbformat_minor": 0,
  "metadata": {
    "colab": {
      "provenance": [],
      "include_colab_link": true
    },
    "kernelspec": {
      "name": "python3",
      "display_name": "Python 3"
    },
    "language_info": {
      "name": "python"
    }
  },
  "cells": [
    {
      "cell_type": "markdown",
      "metadata": {
        "id": "view-in-github",
        "colab_type": "text"
      },
      "source": [
        "<a href=\"https://colab.research.google.com/github/nnarey/NBA-MVP-Predictor/blob/main/Combining_all_the_years.ipynb\" target=\"_parent\"><img src=\"https://colab.research.google.com/assets/colab-badge.svg\" alt=\"Open In Colab\"/></a>"
      ]
    },
    {
      "cell_type": "code",
      "execution_count": null,
      "metadata": {
        "id": "e10YBJ_ikW2F"
      },
      "outputs": [],
      "source": [
        "import pandas as pd\n",
        "\n",
        "df1 = pd.read_csv(\"2007-2008.csv\")\n",
        "df2 = pd.read_csv(\"2008-2009.csv\")\n",
        "df3 = pd.read_csv(\"2009-2010.csv\")\n",
        "df4 = pd.read_csv(\"2010-2011.csv\")\n",
        "df5 = pd.read_csv(\"2011-2012.csv\")\n",
        "df6 = pd.read_csv(\"2012-2013.csv\")\n",
        "df7 = pd.read_csv(\"2013-2014.csv\")\n",
        "df8 = pd.read_csv(\"2014-2015.csv\")\n",
        "df9 = pd.read_csv(\"2015-2016.csv\")\n",
        "df10 = pd.read_csv(\"2016-2017.csv\")\n",
        "df11 = pd.read_csv(\"2017-2018.csv\")\n",
        "df12 = pd.read_csv(\"2018-2019.csv\")\n",
        "df13 = pd.read_csv(\"2019-2020.csv\")\n",
        "df14 = pd.read_csv(\"2020-2021.csv\")\n",
        "df15 = pd.read_csv(\"2021-2022.csv\")\n",
        "df16 = pd.read_csv(\"2022-2023.csv\")\n"
      ]
    },
    {
      "cell_type": "code",
      "source": [
        "df1[\"Season\"] = 2008\n",
        "df2[\"Season\"] = 2009\n",
        "df3[\"Season\"] = 2010\n",
        "df4[\"Season\"] = 2011\n",
        "df5[\"Season\"] = 2012\n",
        "df6[\"Season\"] = 2013\n",
        "df7[\"Season\"] = 2014\n",
        "df8[\"Season\"] = 2015\n",
        "df9[\"Season\"] = 2016\n",
        "df10[\"Season\"] = 2017\n",
        "df11[\"Season\"] = 2018\n",
        "df12[\"Season\"] = 2019\n",
        "df13[\"Season\"] = 2020\n",
        "df14[\"Season\"] = 2021\n",
        "df15[\"Season\"] = 2022\n",
        "df16[\"Season\"] = 2023"
      ],
      "metadata": {
        "id": "HqvbR6Upl6v9"
      },
      "execution_count": null,
      "outputs": []
    },
    {
      "cell_type": "code",
      "source": [
        "df = pd.concat([df1, df2, df3, df4, df5, df6, df7, df8, df9, df10, df11, df12, df13, df14, df15, df16], axis=0)"
      ],
      "metadata": {
        "id": "Tffl_eJ4lVnb"
      },
      "execution_count": null,
      "outputs": []
    },
    {
      "cell_type": "code",
      "source": [
        "df.to_csv(\"2008-2023.csv\")"
      ],
      "metadata": {
        "id": "kfBqXJgsnphk"
      },
      "execution_count": null,
      "outputs": []
    }
  ]
}